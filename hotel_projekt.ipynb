{
 "cells": [
  {
   "cell_type": "code",
   "execution_count": 9,
   "id": "8e8f8dd9-b4ee-49fd-bfb0-67724a2933ec",
   "metadata": {
    "tags": []
   },
   "outputs": [],
   "source": [
    "#pip install jupyter_contrib_nbextensions && jupyter contrib nbextension install\n"
   ]
  },
  {
   "cell_type": "code",
   "execution_count": 10,
   "id": "c85fc77e-1296-49ed-9adb-6e62222e0a79",
   "metadata": {
    "tags": []
   },
   "outputs": [],
   "source": [
    "# install\n",
    "#!pip install pretty-jupyter\n"
   ]
  },
  {
   "cell_type": "code",
   "execution_count": 11,
   "id": "2794d9fe-984c-45a1-bf0b-3647fdd8ccef",
   "metadata": {
    "tags": []
   },
   "outputs": [],
   "source": [
    "# export\n",
    "#jupyter nbconvert --to html --template pj /path/to/ipynb/file"
   ]
  },
  {
   "cell_type": "code",
   "execution_count": 12,
   "id": "2be7a530-e8ef-453e-9e86-92c516e47381",
   "metadata": {
    "tags": []
   },
   "outputs": [],
   "source": [
    "#bez instalowania paczek do ladnych raportow\n",
    "#[Link Text](#Target-Header) # musza byc myslniki zamiast spacji"
   ]
  },
  {
   "cell_type": "markdown",
   "id": "e0a5e3f2-5a0c-4935-bf2d-9a6079b9dfb6",
   "metadata": {},
   "source": [
    "## opis kolumn\n",
    "\n",
    "    Booking_ID: unique identifier of each booking\n",
    "    no_of_adults: Number of adults\n",
    "    no_of_children: Number of Children\n",
    "    no_of_weekend_nights: Number of weekend nights (Saturday or Sunday) the guest stayed or booked to stay at the hotel\n",
    "    no_of_week_nights: Number of week nights (Monday to Friday) the guest stayed or booked to stay at the hotel\n",
    "    type_of_meal_plan: Type of meal plan booked by the customer:\n",
    "    required_car_parking_space: Does the customer require a car parking space? (0 - No, 1- Yes)\n",
    "    room_type_reserved: Type of room reserved by the customer. The values are ciphered (encoded) by INN Hotels.\n",
    "    lead_time: Number of days between the date of book\n",
    "    arrival_date: Date of the monthing and the arrival date\n",
    "    arrival_year: Year of arrival date\n",
    "    arrival_month: Month of arrival date\n",
    "    market_segment_type: Market segment designation.\n",
    "    repeated_guest: Is the customer a repeated guest? (0 - No, 1- Yes)\n",
    "    no_of_previous_cancellations: Number of previous bookings that were canceled by the customer prior to the current booking\n",
    "    no_of_previous_bookings_not_canceled: Number of previous bookings not canceled by the customer prior to the current booking\n",
    "    avg_price_per_room: Average price per day of the reservation; prices of the rooms are dynamic. (in euros)\n",
    "    no_of_special_requests: Total number of special requests made by the customer (e.g. high floor, view from the room, etc)\n",
    "    booking_status: Flag indicating if the booking was canceled or not.\n"
   ]
  },
  {
   "cell_type": "markdown",
   "id": "bae82629-c85d-46f3-abfd-47fdd35859ad",
   "metadata": {},
   "source": [
    "# Table of Contents\n",
    "\n",
    "1. [Wczytanie bibliotek](#Wczytanie-bibliotek)\n",
    "2. [EDA and Data Cleaning](#EDA-and-Data-Cleaning)"
   ]
  },
  {
   "cell_type": "markdown",
   "id": "2e79469b-da48-4ec6-952d-12de32be7572",
   "metadata": {},
   "source": [
    "# Wczytanie bibliotek"
   ]
  },
  {
   "cell_type": "code",
   "execution_count": 25,
   "id": "2d16ba51-65df-4b35-9c3a-5c2a182faae6",
   "metadata": {
    "tags": []
   },
   "outputs": [],
   "source": [
    "#%reset #służy do czyszczenia interaktywnej przestrzeni nazw, ale umożliwia również czyszczenie pamięci podręcznej wejścia i wyjścia\n",
    "#import pprint\n",
    "#a\n",
    "import numpy as np\n",
    "import pandas as pd\n",
    "import matplotlib.pyplot as plt\n",
    "import scipy.stats as st\n",
    "import seaborn as sns\n",
    "import time\n",
    "\n",
    "# do pomiaru czasu uczenia modeli\n",
    "# %time podaje czas\n",
    "# %timeit mierzy kilka razy i podaje uśrednioną wartość (dokładniejszą) - samo dostosowuje liczbe ile razy mierzy\n",
    "#jesli daje jeden procent '%' to mierzy tylko daną linie, jesli dwa procenty to ustawiam na początku komórki\n",
    "#ten procent w lniijce dziala tylko w notebookach\n",
    "#poza trzebaby uzyc:import timeit\n",
    "# def load_csv():\n",
    "#     df = pd.read_csv(\"Hotel Reservations.csv\")\n",
    "\n",
    "# timeit.timeit(load_csv, number=100)\n",
    "\n",
    "%matplotlib inline"
   ]
  },
  {
   "cell_type": "markdown",
   "id": "313cab1a-b50d-43b5-a6fb-9c9db30ab2e5",
   "metadata": {},
   "source": [
    "# EDA and Data Cleaning"
   ]
  },
  {
   "cell_type": "code",
   "execution_count": 42,
   "id": "d821aa59-92e9-4418-90b7-842d6d41ee20",
   "metadata": {
    "tags": []
   },
   "outputs": [
    {
     "name": "stdout",
     "output_type": "stream",
     "text": [
      "CPU times: total: 62.5 ms\n",
      "Wall time: 65.9 ms\n"
     ]
    }
   ],
   "source": [
    "%time df = pd.read_csv(\"Hotel Reservations.csv\")\n",
    "# #CPU times shows the time you used your CPU.\n",
    "# Wall time shows the real time elapsed since the beginning of the cell. This is the time you are interested in.\n",
    "df2= df.copy() #dane do wizualizacji\n"
   ]
  },
  {
   "cell_type": "code",
   "execution_count": 44,
   "id": "911ca9f3-6793-48f7-a86c-45267a3195a7",
   "metadata": {
    "tags": []
   },
   "outputs": [
    {
     "data": {
      "text/html": [
       "<div>\n",
       "<style scoped>\n",
       "    .dataframe tbody tr th:only-of-type {\n",
       "        vertical-align: middle;\n",
       "    }\n",
       "\n",
       "    .dataframe tbody tr th {\n",
       "        vertical-align: top;\n",
       "    }\n",
       "\n",
       "    .dataframe thead th {\n",
       "        text-align: right;\n",
       "    }\n",
       "</style>\n",
       "<table border=\"1\" class=\"dataframe\">\n",
       "  <thead>\n",
       "    <tr style=\"text-align: right;\">\n",
       "      <th></th>\n",
       "      <th>Booking_ID</th>\n",
       "      <th>no_of_adults</th>\n",
       "      <th>no_of_children</th>\n",
       "      <th>no_of_weekend_nights</th>\n",
       "      <th>no_of_week_nights</th>\n",
       "      <th>type_of_meal_plan</th>\n",
       "      <th>required_car_parking_space</th>\n",
       "      <th>room_type_reserved</th>\n",
       "      <th>lead_time</th>\n",
       "      <th>arrival_year</th>\n",
       "      <th>arrival_month</th>\n",
       "      <th>arrival_date</th>\n",
       "      <th>market_segment_type</th>\n",
       "      <th>repeated_guest</th>\n",
       "      <th>no_of_previous_cancellations</th>\n",
       "      <th>no_of_previous_bookings_not_canceled</th>\n",
       "      <th>avg_price_per_room</th>\n",
       "      <th>no_of_special_requests</th>\n",
       "      <th>booking_status</th>\n",
       "    </tr>\n",
       "  </thead>\n",
       "  <tbody>\n",
       "    <tr>\n",
       "      <th>0</th>\n",
       "      <td>INN00001</td>\n",
       "      <td>2</td>\n",
       "      <td>0</td>\n",
       "      <td>1</td>\n",
       "      <td>2</td>\n",
       "      <td>Meal Plan 1</td>\n",
       "      <td>0</td>\n",
       "      <td>Room_Type 1</td>\n",
       "      <td>224</td>\n",
       "      <td>2017</td>\n",
       "      <td>10</td>\n",
       "      <td>2</td>\n",
       "      <td>Offline</td>\n",
       "      <td>0</td>\n",
       "      <td>0</td>\n",
       "      <td>0</td>\n",
       "      <td>65.00</td>\n",
       "      <td>0</td>\n",
       "      <td>Not_Canceled</td>\n",
       "    </tr>\n",
       "    <tr>\n",
       "      <th>1</th>\n",
       "      <td>INN00002</td>\n",
       "      <td>2</td>\n",
       "      <td>0</td>\n",
       "      <td>2</td>\n",
       "      <td>3</td>\n",
       "      <td>Not Selected</td>\n",
       "      <td>0</td>\n",
       "      <td>Room_Type 1</td>\n",
       "      <td>5</td>\n",
       "      <td>2018</td>\n",
       "      <td>11</td>\n",
       "      <td>6</td>\n",
       "      <td>Online</td>\n",
       "      <td>0</td>\n",
       "      <td>0</td>\n",
       "      <td>0</td>\n",
       "      <td>106.68</td>\n",
       "      <td>1</td>\n",
       "      <td>Not_Canceled</td>\n",
       "    </tr>\n",
       "    <tr>\n",
       "      <th>2</th>\n",
       "      <td>INN00003</td>\n",
       "      <td>1</td>\n",
       "      <td>0</td>\n",
       "      <td>2</td>\n",
       "      <td>1</td>\n",
       "      <td>Meal Plan 1</td>\n",
       "      <td>0</td>\n",
       "      <td>Room_Type 1</td>\n",
       "      <td>1</td>\n",
       "      <td>2018</td>\n",
       "      <td>2</td>\n",
       "      <td>28</td>\n",
       "      <td>Online</td>\n",
       "      <td>0</td>\n",
       "      <td>0</td>\n",
       "      <td>0</td>\n",
       "      <td>60.00</td>\n",
       "      <td>0</td>\n",
       "      <td>Canceled</td>\n",
       "    </tr>\n",
       "    <tr>\n",
       "      <th>3</th>\n",
       "      <td>INN00004</td>\n",
       "      <td>2</td>\n",
       "      <td>0</td>\n",
       "      <td>0</td>\n",
       "      <td>2</td>\n",
       "      <td>Meal Plan 1</td>\n",
       "      <td>0</td>\n",
       "      <td>Room_Type 1</td>\n",
       "      <td>211</td>\n",
       "      <td>2018</td>\n",
       "      <td>5</td>\n",
       "      <td>20</td>\n",
       "      <td>Online</td>\n",
       "      <td>0</td>\n",
       "      <td>0</td>\n",
       "      <td>0</td>\n",
       "      <td>100.00</td>\n",
       "      <td>0</td>\n",
       "      <td>Canceled</td>\n",
       "    </tr>\n",
       "    <tr>\n",
       "      <th>4</th>\n",
       "      <td>INN00005</td>\n",
       "      <td>2</td>\n",
       "      <td>0</td>\n",
       "      <td>1</td>\n",
       "      <td>1</td>\n",
       "      <td>Not Selected</td>\n",
       "      <td>0</td>\n",
       "      <td>Room_Type 1</td>\n",
       "      <td>48</td>\n",
       "      <td>2018</td>\n",
       "      <td>4</td>\n",
       "      <td>11</td>\n",
       "      <td>Online</td>\n",
       "      <td>0</td>\n",
       "      <td>0</td>\n",
       "      <td>0</td>\n",
       "      <td>94.50</td>\n",
       "      <td>0</td>\n",
       "      <td>Canceled</td>\n",
       "    </tr>\n",
       "  </tbody>\n",
       "</table>\n",
       "</div>"
      ],
      "text/plain": [
       "  Booking_ID  no_of_adults  no_of_children  no_of_weekend_nights  \\\n",
       "0   INN00001             2               0                     1   \n",
       "1   INN00002             2               0                     2   \n",
       "2   INN00003             1               0                     2   \n",
       "3   INN00004             2               0                     0   \n",
       "4   INN00005             2               0                     1   \n",
       "\n",
       "   no_of_week_nights type_of_meal_plan  required_car_parking_space  \\\n",
       "0                  2       Meal Plan 1                           0   \n",
       "1                  3      Not Selected                           0   \n",
       "2                  1       Meal Plan 1                           0   \n",
       "3                  2       Meal Plan 1                           0   \n",
       "4                  1      Not Selected                           0   \n",
       "\n",
       "  room_type_reserved  lead_time  arrival_year  arrival_month  arrival_date  \\\n",
       "0        Room_Type 1        224          2017             10             2   \n",
       "1        Room_Type 1          5          2018             11             6   \n",
       "2        Room_Type 1          1          2018              2            28   \n",
       "3        Room_Type 1        211          2018              5            20   \n",
       "4        Room_Type 1         48          2018              4            11   \n",
       "\n",
       "  market_segment_type  repeated_guest  no_of_previous_cancellations  \\\n",
       "0             Offline               0                             0   \n",
       "1              Online               0                             0   \n",
       "2              Online               0                             0   \n",
       "3              Online               0                             0   \n",
       "4              Online               0                             0   \n",
       "\n",
       "   no_of_previous_bookings_not_canceled  avg_price_per_room  \\\n",
       "0                                     0               65.00   \n",
       "1                                     0              106.68   \n",
       "2                                     0               60.00   \n",
       "3                                     0              100.00   \n",
       "4                                     0               94.50   \n",
       "\n",
       "   no_of_special_requests booking_status  \n",
       "0                       0   Not_Canceled  \n",
       "1                       1   Not_Canceled  \n",
       "2                       0       Canceled  \n",
       "3                       0       Canceled  \n",
       "4                       0       Canceled  "
      ]
     },
     "execution_count": 44,
     "metadata": {},
     "output_type": "execute_result"
    }
   ],
   "source": [
    "df.head()"
   ]
  },
  {
   "cell_type": "code",
   "execution_count": null,
   "id": "1f3b9975-fa9b-4f31-a6f2-13abeede6ccc",
   "metadata": {
    "tags": []
   },
   "outputs": [],
   "source": [
    "#wyrzucam kolumne Booking_ID bo to zbędny indeks\n",
    "\n",
    "#do operacji usunięcia kolumny stosujemy metode 'drop' z parametrem axis=1 , do wierszy axis=0\n",
    "df = df.drop('Booking_ID', axis=1)\n",
    "df.head()"
   ]
  },
  {
   "cell_type": "code",
   "execution_count": null,
   "id": "230e914f-d119-4e28-930a-e9af25d3f2b9",
   "metadata": {
    "tags": []
   },
   "outputs": [],
   "source": [
    "df.shape"
   ]
  },
  {
   "cell_type": "code",
   "execution_count": null,
   "id": "2ff15caf-7b45-4af4-af9c-ed9a5c63c3cf",
   "metadata": {
    "tags": []
   },
   "outputs": [],
   "source": [
    "#mamy 36 tysiecy wierszy i 19 kolumn"
   ]
  },
  {
   "cell_type": "markdown",
   "id": "a872c029-6fc9-4736-9562-c269f1bf533e",
   "metadata": {},
   "source": [
    "### zamiana zmiennych kategorycznych w postaci tekstu na liczby"
   ]
  },
  {
   "cell_type": "code",
   "execution_count": null,
   "id": "25fa1b1d-6a89-4950-9890-1b21723f8c0d",
   "metadata": {
    "tags": []
   },
   "outputs": [],
   "source": [
    "df.nunique()"
   ]
  },
  {
   "cell_type": "code",
   "execution_count": null,
   "id": "ebdd9fbf-85f9-4b30-bba4-4a2c39e768df",
   "metadata": {
    "tags": []
   },
   "outputs": [],
   "source": [
    "df=df.drop(columns=[\"Booking_ID\"])"
   ]
  },
  {
   "cell_type": "code",
   "execution_count": null,
   "id": "859a935d-bde2-4b9a-bb93-f41c58f2fdce",
   "metadata": {
    "tags": []
   },
   "outputs": [],
   "source": [
    "#nazwy kolumn\n",
    "list(df)"
   ]
  },
  {
   "cell_type": "code",
   "execution_count": 45,
   "id": "781fa490-5ba7-418d-b57d-ee48fa7588be",
   "metadata": {
    "tags": []
   },
   "outputs": [
    {
     "name": "stdout",
     "output_type": "stream",
     "text": [
      "<class 'pandas.core.frame.DataFrame'>\n",
      "RangeIndex: 36275 entries, 0 to 36274\n",
      "Data columns (total 19 columns):\n",
      " #   Column                                Non-Null Count  Dtype  \n",
      "---  ------                                --------------  -----  \n",
      " 0   Booking_ID                            36275 non-null  object \n",
      " 1   no_of_adults                          36275 non-null  int64  \n",
      " 2   no_of_children                        36275 non-null  int64  \n",
      " 3   no_of_weekend_nights                  36275 non-null  int64  \n",
      " 4   no_of_week_nights                     36275 non-null  int64  \n",
      " 5   type_of_meal_plan                     36275 non-null  object \n",
      " 6   required_car_parking_space            36275 non-null  int64  \n",
      " 7   room_type_reserved                    36275 non-null  object \n",
      " 8   lead_time                             36275 non-null  int64  \n",
      " 9   arrival_year                          36275 non-null  int64  \n",
      " 10  arrival_month                         36275 non-null  int64  \n",
      " 11  arrival_date                          36275 non-null  int64  \n",
      " 12  market_segment_type                   36275 non-null  object \n",
      " 13  repeated_guest                        36275 non-null  int64  \n",
      " 14  no_of_previous_cancellations          36275 non-null  int64  \n",
      " 15  no_of_previous_bookings_not_canceled  36275 non-null  int64  \n",
      " 16  avg_price_per_room                    36275 non-null  float64\n",
      " 17  no_of_special_requests                36275 non-null  int64  \n",
      " 18  booking_status                        36275 non-null  object \n",
      "dtypes: float64(1), int64(13), object(5)\n",
      "memory usage: 5.3+ MB\n"
     ]
    }
   ],
   "source": [
    "# df.info() pokazuje wiecej niz \n",
    "# df.dtypes\n",
    "df.info()\n",
    "#sprawdzam typy danych czy sa rozne ilosci niepustych wartosci w kolumnach\n",
    "# juz widac ze nie ma pustych wartosci w zbiorze\n",
    "# gdyby byly puste wartosci mozna je w najprostszy sposob zastapiac srednia, mediana,\n",
    "# lub zastosowac\n",
    "# data = data.fillna(method='ffill') \n",
    "# which fills the last observed non-null value forward until another non-null value is encountered.\n"
   ]
  },
  {
   "cell_type": "code",
   "execution_count": null,
   "id": "84710130-12ef-45b4-b611-fe1bfaba1da7",
   "metadata": {
    "tags": []
   },
   "outputs": [],
   "source": [
    "# Sa tu dane kategoryczne w postaci liczb calkowitych, object ktore sa tak naprawde string (bo wczytujemy z csv) oraz dane zmiennoprzecinkowe liczbowe ciągłe"
   ]
  },
  {
   "cell_type": "markdown",
   "id": "b53f24b8-0805-4a4b-98c1-e4ab05444c2c",
   "metadata": {},
   "source": [
    "Od razu widać też, że nie mamy pustych wartości, ale sprawdzę to jeszcze funkcją isna."
   ]
  },
  {
   "cell_type": "code",
   "execution_count": null,
   "id": "5c96f9da-fae6-4da3-a153-9cde4dd51ff2",
   "metadata": {
    "tags": []
   },
   "outputs": [],
   "source": [
    "#liczba pustych wartosci w kolumnach\n",
    "# isnull is an alias for isna\n",
    "#df.isnull().sum()\n",
    "df.isna().sum()"
   ]
  },
  {
   "cell_type": "markdown",
   "id": "87bfe53e-e3cd-47b9-bb69-49b9623907ef",
   "metadata": {},
   "source": [
    "Nie ma pustych komórek więc nie trzeba ich usuwać lub uzupełniać."
   ]
  },
  {
   "cell_type": "code",
   "execution_count": null,
   "id": "2f822114-4d85-4380-b248-3ff0ac45d15a",
   "metadata": {
    "tags": []
   },
   "outputs": [],
   "source": []
  },
  {
   "cell_type": "markdown",
   "id": "92ad424f-1a0c-48a5-a948-bbd2108248a8",
   "metadata": {},
   "source": [
    "### zamiana zmiennych kategorycznych w postaci tekstu na liczby"
   ]
  },
  {
   "cell_type": "code",
   "execution_count": 49,
   "id": "a6b51832-4211-4927-ab93-42eeb3f1e8a3",
   "metadata": {
    "tags": []
   },
   "outputs": [
    {
     "name": "stdout",
     "output_type": "stream",
     "text": [
      "Kolumny z typami danych innymi niż liczbowe:\n",
      "Index(['Booking_ID', 'type_of_meal_plan', 'room_type_reserved',\n",
      "       'market_segment_type', 'booking_status'],\n",
      "      dtype='object')\n"
     ]
    }
   ],
   "source": [
    "# Sprawdźmy kolumny w których nie mamy danych liczbowych\n",
    "non_float_columns = df.select_dtypes(exclude=['float', 'int']).columns\n",
    "\n",
    "print(\"Kolumny z typami danych innymi niż liczbowe:\")\n",
    "print(non_float_columns)"
   ]
  },
  {
   "cell_type": "code",
   "execution_count": 52,
   "id": "d87a6c06-af4c-4c52-be35-5fc91c603a7b",
   "metadata": {
    "tags": []
   },
   "outputs": [
    {
     "data": {
      "text/html": [
       "<div>\n",
       "<style scoped>\n",
       "    .dataframe tbody tr th:only-of-type {\n",
       "        vertical-align: middle;\n",
       "    }\n",
       "\n",
       "    .dataframe tbody tr th {\n",
       "        vertical-align: top;\n",
       "    }\n",
       "\n",
       "    .dataframe thead th {\n",
       "        text-align: right;\n",
       "    }\n",
       "</style>\n",
       "<table border=\"1\" class=\"dataframe\">\n",
       "  <thead>\n",
       "    <tr style=\"text-align: right;\">\n",
       "      <th></th>\n",
       "      <th>Booking_ID</th>\n",
       "      <th>type_of_meal_plan</th>\n",
       "      <th>room_type_reserved</th>\n",
       "      <th>market_segment_type</th>\n",
       "      <th>booking_status</th>\n",
       "    </tr>\n",
       "  </thead>\n",
       "  <tbody>\n",
       "    <tr>\n",
       "      <th>0</th>\n",
       "      <td>INN00001</td>\n",
       "      <td>Meal Plan 1</td>\n",
       "      <td>Room_Type 1</td>\n",
       "      <td>Offline</td>\n",
       "      <td>Not_Canceled</td>\n",
       "    </tr>\n",
       "    <tr>\n",
       "      <th>1</th>\n",
       "      <td>INN00002</td>\n",
       "      <td>Not Selected</td>\n",
       "      <td>Room_Type 1</td>\n",
       "      <td>Online</td>\n",
       "      <td>Not_Canceled</td>\n",
       "    </tr>\n",
       "    <tr>\n",
       "      <th>2</th>\n",
       "      <td>INN00003</td>\n",
       "      <td>Meal Plan 1</td>\n",
       "      <td>Room_Type 1</td>\n",
       "      <td>Online</td>\n",
       "      <td>Canceled</td>\n",
       "    </tr>\n",
       "    <tr>\n",
       "      <th>3</th>\n",
       "      <td>INN00004</td>\n",
       "      <td>Meal Plan 1</td>\n",
       "      <td>Room_Type 1</td>\n",
       "      <td>Online</td>\n",
       "      <td>Canceled</td>\n",
       "    </tr>\n",
       "    <tr>\n",
       "      <th>4</th>\n",
       "      <td>INN00005</td>\n",
       "      <td>Not Selected</td>\n",
       "      <td>Room_Type 1</td>\n",
       "      <td>Online</td>\n",
       "      <td>Canceled</td>\n",
       "    </tr>\n",
       "  </tbody>\n",
       "</table>\n",
       "</div>"
      ],
      "text/plain": [
       "  Booking_ID type_of_meal_plan room_type_reserved market_segment_type  \\\n",
       "0   INN00001       Meal Plan 1        Room_Type 1             Offline   \n",
       "1   INN00002      Not Selected        Room_Type 1              Online   \n",
       "2   INN00003       Meal Plan 1        Room_Type 1              Online   \n",
       "3   INN00004       Meal Plan 1        Room_Type 1              Online   \n",
       "4   INN00005      Not Selected        Room_Type 1              Online   \n",
       "\n",
       "  booking_status  \n",
       "0   Not_Canceled  \n",
       "1   Not_Canceled  \n",
       "2       Canceled  \n",
       "3       Canceled  \n",
       "4       Canceled  "
      ]
     },
     "execution_count": 52,
     "metadata": {},
     "output_type": "execute_result"
    }
   ],
   "source": [
    "df[non_float_columns].head()"
   ]
  },
  {
   "cell_type": "code",
   "execution_count": null,
   "id": "99bd3a67-4c7c-4f7f-84db-af888a5b9cc4",
   "metadata": {
    "tags": []
   },
   "outputs": [],
   "source": [
    "#sprawdzam jakie wartości mają kolumny z tekstem\n",
    "#gdyby był błąd w ramce typu, że Room_Type 4 by był zapisany jeszcze jako Room Type 4 gdzieś to można użyc funkcji where aby zastapic poprawna wartoscia\n",
    "# df['room_type_reserved'] = np.where(df['room_type_reserved']=='Room Type 4', 'Room_Type 4', df['room_type_reserved'])\n",
    "df[non_float_columns].unique().tolist()\n",
    "unique1=df['type_of_meal_plan'].unique().tolist()\n",
    "unique2=df['room_type_reserved'].unique().tolist()\n",
    "unique3=df['market_segment_type'].unique().tolist()\n",
    "#oraz zmienna ktora bedziemy przewidywac\n",
    "unique4=df['booking_status'].unique().tolist()\n",
    "print(unique1)\n",
    "print(unique2)\n",
    "print(unique3)\n",
    "print(unique4)"
   ]
  },
  {
   "cell_type": "markdown",
   "id": "eff4bb2b-37eb-44b0-b453-04a372075fdd",
   "metadata": {},
   "source": [
    "Ponieważ większość algorytmów uczenia maszynowego woli zmienne liczbowe od tekstowych dokonam zamiany z tekstu na liczby."
   ]
  },
  {
   "cell_type": "code",
   "execution_count": null,
   "id": "5970d0ef-8629-4001-961a-9b584b2022a0",
   "metadata": {
    "tags": []
   },
   "outputs": [],
   "source": [
    "df.columns"
   ]
  },
  {
   "cell_type": "code",
   "execution_count": null,
   "id": "3da9e970-56df-4151-9dcb-d997445bf39b",
   "metadata": {
    "tags": []
   },
   "outputs": [],
   "source": [
    "# I SPOSOB\n",
    "#za pomoca sklearn tworzy poprostu liczby zamiast kategorii\n",
    "\n",
    "# from sklearn.preprocessing import LabelEncoder\n",
    "# le = LabelEncoder()\n",
    "# df['type_of_meal_plan'] = le.fit_transform(df.type_of_meal_plan)\n",
    "# print(df['type_of_meal_plan'].value_counts())\n",
    "# print(df['type_of_meal_plan'].sample(5))\n",
    "\n",
    "#ale tutaj zastosuje one hot encoding bo nie widze hierarchii\n",
    "\n",
    "\n",
    "\n",
    "#sprobuje one-hot-encoding bo nie widze hierarchii\n",
    "\n",
    "df = pd.get_dummies(data=df, columns = ['type_of_meal_plan', 'room_type_reserved', 'market_segment_type'])\n",
    "\n",
    "#wszystko sie zaczyna od 0\n",
    "\n",
    "\n",
    "# II SPOSOB\n",
    "\n",
    "# class_mapping1 = {value: index for index, value in enumerate(unique1)} #tworzenie slownika jednoliniowo\n",
    "# df['type_of_meal_plan'] = df['type_of_meal_plan'].map(class_mapping1)\n",
    "\n",
    "# class_mapping2 = {value: index for index, value in enumerate(unique2)}\n",
    "# df['room_type_reserved'] = df['room_type_reserved'].map(class_mapping2)\n",
    "\n",
    "# class_mapping3 = {value: index for index, value in enumerate(unique3)}\n",
    "# df['market_segment_type'] = df['market_segment_type'].map(class_mapping3)\n",
    "\n",
    "# III SPOSOB\n",
    "\n",
    "# #eq do 0 - 1 tylko\n",
    "#zmienna przewidywana\n",
    "df['booking_status'] = df['booking_status'].eq('Not_Canceled').astype(int)\n",
    "\n",
    "#######################\n",
    "#The eq() method compares each value in a DataFrame to check if it is equal to a specified value, or a value from a specified DataFrame objects, and returns a DataFrame with boolean True/False for each comparison\n",
    "#not canceled stał sie '0' a canceled '1'\n",
    "#######################\n",
    "\n",
    "#przyklady inne\n",
    "\n",
    "# IV SPOSOB\n",
    "\n",
    "# albo replace - rowniez do wiekszej liczby kategorii, za pomocą słownika\n",
    "#data['Gender'] = data['Gender'].replace({'Male': 1, 'Female': 0})\n",
    "\n",
    "# V SPOSOB\n",
    "#albo mapowaniem ręcznym\n",
    "# class_mapping = {'Eco': 0, 'Eco Plus': 1, 'Business': 2}\n",
    "# data['Class'] = data['Class'].map(class_mapping)\n"
   ]
  },
  {
   "cell_type": "code",
   "execution_count": null,
   "id": "056369ab-c356-4759-8156-b3e649b1ea92",
   "metadata": {
    "tags": []
   },
   "outputs": [],
   "source": [
    "df.shape \n",
    "#zwiekszyla sie liczba kolumn o liczbe kategorii w kolumnach dodanych w get dummies"
   ]
  },
  {
   "cell_type": "code",
   "execution_count": null,
   "id": "eeeaec32-5c06-4fc9-be67-76ea2dfd241b",
   "metadata": {
    "tags": []
   },
   "outputs": [],
   "source": [
    "df.head()\n",
    "#nowe kolumyn z get_dummies dodały sie na koniec"
   ]
  },
  {
   "cell_type": "code",
   "execution_count": null,
   "id": "a55bcc52-11be-46b5-af9b-102c9ea8b1a5",
   "metadata": {
    "tags": []
   },
   "outputs": [],
   "source": [
    "list(df)"
   ]
  },
  {
   "cell_type": "code",
   "execution_count": null,
   "id": "bcc4bb6b-0d47-442e-b4bf-d92d2ad42993",
   "metadata": {
    "tags": []
   },
   "outputs": [],
   "source": [
    "#mozna by stworzyc nowe kolumny z czasem"
   ]
  },
  {
   "cell_type": "markdown",
   "id": "d3eb914f-358f-480c-9bba-e42a8f2b2070",
   "metadata": {},
   "source": [
    "#### czy usuwac elemnty kodu ktore nic nie wnosza dla widza a sa dla mnie zeby spojrzec na dane?> nie do pliku raportu a do pliku do prezentacji tak"
   ]
  },
  {
   "cell_type": "code",
   "execution_count": null,
   "id": "dcac5ab7-3904-497c-971d-2ac59964210e",
   "metadata": {},
   "outputs": [],
   "source": []
  },
  {
   "cell_type": "code",
   "execution_count": null,
   "id": "a65483b1-174c-4799-969a-fc11816f4b6f",
   "metadata": {
    "tags": []
   },
   "outputs": [],
   "source": [
    "df.describe().round(2)\n",
    "# funkcja pokazujaca podstawowe statystyki dla kolumn liczbowych\n",
    "#trzeba spojrzec czy nie rozni sie bardzo min od np 1 kwartyla"
   ]
  },
  {
   "cell_type": "markdown",
   "id": "2b1185f8-8f9a-4f6b-a2c2-048aa201c38c",
   "metadata": {},
   "source": [
    "# Wizualizacja"
   ]
  },
  {
   "cell_type": "markdown",
   "id": "69aa4d00-1a0f-490a-80bd-912e6fbca5b9",
   "metadata": {},
   "source": [
    "narysowac cos z podzialem na czas bo jego jeszcze nie wykorzystalem wgl"
   ]
  },
  {
   "cell_type": "code",
   "execution_count": null,
   "id": "a320cd98-34e9-4de0-8dff-6af0de23a46f",
   "metadata": {
    "tags": []
   },
   "outputs": [],
   "source": [
    "#Jeśli mogę cokolwiek powiedzieć o jakims wykresie to zostawić"
   ]
  },
  {
   "cell_type": "code",
   "execution_count": null,
   "id": "aa752a9a-3be7-46f5-be79-ab3452492e29",
   "metadata": {
    "tags": []
   },
   "outputs": [],
   "source": [
    "df['booking_status'].value_counts().index"
   ]
  },
  {
   "cell_type": "code",
   "execution_count": null,
   "id": "ce698a2d-4c1e-4dfd-8de5-0de6e32bd8b7",
   "metadata": {
    "tags": []
   },
   "outputs": [],
   "source": [
    "plt.bar(df2['booking_status'].value_counts().index, df2['booking_status'].value_counts())\n",
    "plt.xlabel('Booking Status')\n",
    "plt.ylabel('Liczba wystąpień')\n",
    "plt.title('Liczba odwołań')\n",
    "\n",
    "plt.show()"
   ]
  },
  {
   "cell_type": "markdown",
   "id": "d8a441a8-3597-4008-badc-6faf723822df",
   "metadata": {},
   "source": [
    "Liczba odwołan jest 2 razy mniejsza od rezerwacji gdzie nie było odwołań."
   ]
  },
  {
   "cell_type": "code",
   "execution_count": null,
   "id": "70dd01a5-8dbf-4960-81d6-ad8c43fb84ee",
   "metadata": {
    "tags": []
   },
   "outputs": [],
   "source": [
    "filtered_df = df2[df2['room_type_reserved'] != 'Room_Type 1']\n",
    "filtered_df.head()"
   ]
  },
  {
   "cell_type": "code",
   "execution_count": null,
   "id": "0a2e7332-9a3e-4dba-9c3e-e1f9fa6e9aa7",
   "metadata": {
    "tags": []
   },
   "outputs": [],
   "source": [
    "#kilka wykresow naraz za pomoca subplot"
   ]
  },
  {
   "cell_type": "code",
   "execution_count": null,
   "id": "69ffc3a9-efcc-4287-9419-34bc8a90aab9",
   "metadata": {
    "tags": []
   },
   "outputs": [],
   "source": [
    "df2['room_type_reserved'].value_counts()"
   ]
  },
  {
   "cell_type": "code",
   "execution_count": null,
   "id": "919577e4-539e-4e89-8200-86ce797be791",
   "metadata": {
    "tags": []
   },
   "outputs": [],
   "source": [
    "fig, axes = plt.subplots(nrows=4, ncols=1, figsize=(10, 12))\n",
    "\n",
    "\n",
    "#dla podwykresow musimy ustawic `set_title/set_xlabel/set_ylabel` a nie title/xlabel/ylabel bo one sa do calego rysunku\n",
    "sns.boxplot(data=df2, x='type_of_meal_plan', y='avg_price_per_room',ax=axes[0])\n",
    "axes[0].set_title('Rozkład cen pokoi według typu posiłku')\n",
    "axes[0].set_xlabel('Rodzaj planu żywieniowego')\n",
    "axes[0].set_ylabel('Cena pokoju (w euro)')\n",
    "\n",
    "sns.countplot(data=df2, x='type_of_meal_plan', ax=axes[1])\n",
    "axes[1].set_title('Ilość rezerwacji według rodzaju planu żywieniowego')\n",
    "axes[1].set_xlabel('Rodzaj planu żywieniowego')\n",
    "axes[1].set_ylabel('Liczba rezerwacji')\n",
    "\n",
    "\n",
    "#trzeba pamiec zeby wpisac wszystie rodzaje zmiennych chyba ze chcemy wykluczyc z wykresu jakas, bo pominalem Room_type 7 i zmienila sie skala\n",
    "room_type_order = ['Room_Type 1', 'Room_Type 2', 'Room_Type 3', 'Room_Type 4', 'Room_Type 5', 'Room_Type 6', 'Room_Type 7']\n",
    "\n",
    "#\n",
    "#df_bez_Room_1 = df2[df2['room_type_reserved'] != 'Room_Type 1']\n",
    "#zamiast wyrzucac Room1 ktore zaburza zakres osi y, zmienie zakres\n",
    "sns.countplot(data=df2, x='room_type_reserved', ax=axes[2], order=bez_1_room_type_order)\n",
    "axes[2].set_title('Ilość rezerwacji według typów pokoji')\n",
    "axes[2].set_xlabel('Typ pokoju')\n",
    "axes[2].set_ylabel('Liczba rezerwacji')\n",
    "axes[2].set_ylim(top=1000)  # adjust the top leaving bottom unchanged\n",
    "\n",
    "\n",
    "sns.boxplot(data=df2, x='room_type_reserved', y='avg_price_per_room', ax=axes[3], order=room_type_order)\n",
    "axes[3].set_title('Rozkład cen pokoi według typu pokoju')\n",
    "axes[3].set_xlabel('Typ pokoju')\n",
    "axes[3].set_ylabel('Cena pokoju (w euro)')\n",
    "#Obrocenie podpisow osi x\n",
    "axes[2].tick_params(axis='x', rotation=45)\n",
    "\n",
    "# Adjust layout to prevent clipping of titles\n",
    "plt.tight_layout()\n",
    "\n",
    "# Show the plots\n",
    "plt.show()\n",
    "#posortowac"
   ]
  },
  {
   "cell_type": "code",
   "execution_count": null,
   "id": "5c82f4b0-b37e-4d98-a8cc-31ab8d8c1297",
   "metadata": {
    "tags": []
   },
   "outputs": [],
   "source": []
  },
  {
   "cell_type": "code",
   "execution_count": null,
   "id": "33fe01da-b220-479c-961e-2b3c2242100c",
   "metadata": {
    "tags": []
   },
   "outputs": [],
   "source": [
    "plt.scatter(df.no_of_weekend_nights, df.no_of_week_nights, alpha=0.01)\n",
    "plt.grid(color='green', linestyle='dotted', linewidth=0.8)\n",
    "#sprobowac pokolorowac na kolor czy odwolane czy nie\n",
    "#sprawdzmy czy danea sa prawidlowe np czy liczba zarezerowania dni w weekend jest skorelowana z liczba\n",
    "#dni na tygodniu czyli np cyz ktos zostal na pelne 2 tyg"
   ]
  },
  {
   "cell_type": "markdown",
   "id": "5a166f58-8570-4a70-b8f5-fc12a07618a5",
   "metadata": {},
   "source": [
    "Liczba dni rezerwacji na tygodniu i na weekend są liniowo skorelowane. Dodatkowo widać, że najwięcej osób rezerwuje 5 dni roboczych lub 2 dni weekendowe lub to i to"
   ]
  },
  {
   "cell_type": "code",
   "execution_count": null,
   "id": "ad775184-04ad-492c-884d-b4af4742f7f9",
   "metadata": {
    "tags": []
   },
   "outputs": [],
   "source": []
  },
  {
   "cell_type": "code",
   "execution_count": null,
   "id": "0fd16572-3a34-4fc1-94bf-eb36a4c051bd",
   "metadata": {
    "tags": []
   },
   "outputs": [],
   "source": []
  },
  {
   "cell_type": "code",
   "execution_count": null,
   "id": "1ab20673-b67b-4ba5-88c5-68c045250195",
   "metadata": {
    "tags": []
   },
   "outputs": [],
   "source": [
    "sns.set(style=\"whitegrid\")\n",
    "plt.figure(figsize=(10, 6))\n",
    "sns.countplot(data=df2, x='type_of_meal_plan')\n",
    "plt.title('Ilość rezerwacji według rodzaju planu żywieniowego')\n",
    "plt.xlabel('Rodzaj planu żywieniowego')\n",
    "plt.ylabel('Liczba rezerwacji')\n",
    "plt.show()"
   ]
  },
  {
   "cell_type": "markdown",
   "id": "c31afb29-8aea-485d-9444-6ff0c88a402c",
   "metadata": {},
   "source": [
    "Jest tylko 5 rezerwacji z wybranym 'Meal Plan 3'."
   ]
  },
  {
   "cell_type": "code",
   "execution_count": null,
   "id": "299e629c-86d9-4567-8861-6cd47a71ace4",
   "metadata": {
    "tags": []
   },
   "outputs": [],
   "source": [
    "df2.hist(bins=50, figsize=(20,15))\n",
    "\n",
    "plt.show()"
   ]
  },
  {
   "cell_type": "markdown",
   "id": "fec4443c-fa8f-4d5a-b40f-a0483f0bcfa4",
   "metadata": {},
   "source": [
    "### Korelacja"
   ]
  },
  {
   "cell_type": "code",
   "execution_count": null,
   "id": "ce955ba0-5c45-472a-9f18-8150678ede5d",
   "metadata": {
    "tags": []
   },
   "outputs": [],
   "source": [
    "correlation_matrix = df2.corr().round(2)\n",
    "\n",
    "plt.figure(figsize=(20, 15))\n",
    "sns.heatmap(correlation_matrix, annot=True, cmap='coolwarm')\n",
    "plt.xticks(fontsize=10)\n",
    "plt.yticks(fontsize=10)\n",
    "plt.title(\"Macierz Korelacji\")\n",
    "\n",
    "plt.show()"
   ]
  },
  {
   "cell_type": "markdown",
   "id": "017d1fc4-6583-4b44-9d64-a8fe761716eb",
   "metadata": {},
   "source": [
    "#### Histogram korelacji"
   ]
  },
  {
   "cell_type": "code",
   "execution_count": null,
   "id": "14887085-c603-46a4-ad39-28722201cedf",
   "metadata": {
    "tags": []
   },
   "outputs": [],
   "source": [
    "corr_values = df2.corr()\n",
    "corr_values\n",
    "\n"
   ]
  },
  {
   "cell_type": "code",
   "execution_count": null,
   "id": "712c90c5-44e7-4d82-8b95-7a74e9eb37a2",
   "metadata": {
    "tags": []
   },
   "outputs": [],
   "source": [
    "tril_index = np.tril_indices_from(corr_values)\n",
    "tril_index"
   ]
  },
  {
   "cell_type": "code",
   "execution_count": null,
   "id": "be3ce4d0-6143-4cbe-a7c0-699bcbcc681e",
   "metadata": {},
   "outputs": [],
   "source": [
    "corr_array = np.array(corr_values)"
   ]
  },
  {
   "cell_type": "code",
   "execution_count": null,
   "id": "a935b297-0579-45f2-877b-10be39e9ee8b",
   "metadata": {
    "tags": []
   },
   "outputs": [],
   "source": [
    "corr_values = pd.DataFrame(corr_array, columns=corr_values.columns, index=corr_values.index)\n",
    "corr_values"
   ]
  },
  {
   "cell_type": "code",
   "execution_count": null,
   "id": "bfed4b73-88cd-48b4-8a29-3593bf3dd7e7",
   "metadata": {
    "tags": []
   },
   "outputs": [],
   "source": [
    "#wylaczenie warnings\n",
    "def warn(*args, **kwargs):\n",
    "    pass\n",
    "import warnings\n",
    "warnings.warn = warn"
   ]
  },
  {
   "cell_type": "code",
   "execution_count": null,
   "id": "ed40dc44-e47b-4ce2-a63b-ae6edc54ef44",
   "metadata": {
    "tags": []
   },
   "outputs": [],
   "source": [
    "corr_values = df2.corr()\n",
    "corr_array = np.array(corr_values)\n",
    "corr_values = pd.DataFrame(corr_array, columns=corr_values.columns, index=corr_values.index)\n",
    "corr_values\n",
    "tril_index = np.tril_indices_from(corr_values)\n",
    "#trill indices from zwraca indeksy ktore są macierzą dolnie trojkątną\n",
    "#macierz koerealcji jest symetryczna wiec wystarczy nam gornie trojkatna\n",
    "# Make the unused values NaNs\n",
    "for coord in zip(*tril_index):\n",
    "    corr_values.iloc[coord[0], coord[1]] = np.NaN #ustawiamy na wartosc na `NA` wszystko na dolnie trjkatnej\n",
    "    \n",
    "    \n",
    "    # co to zip(*tril_index)\n",
    "#####\n",
    "# tril_index = [(1, 2, 3), (4, 5, 6), (7, 8, 9)]\n",
    "\n",
    "# # Rozpakowywanie np tuple przy użyciu *\n",
    "# result = zip(*tril_index)\n",
    "\n",
    "# # Wynik to zip((1, 2, 3), (4, 5, 6), (7, 8, 9))\n",
    "\n",
    "#stack() w Pandas służy do przekształcania DataFrame'u z dwoma poziomami indeksu (np. macierzy korelacji) na Series, \n",
    "#usuwając jednocześnie jedno z wymiarów indeksu.\n",
    "#to_frame(): Metoda to_frame() zamienia Series na DataFrame. W tym przypadku,\n",
    "#po użyciu stack(), mamy teraz jednowymiarową serię korelacji, a to_frame() zamienia ją na jednokolumnowy DataFrame.\n",
    "#dalej reset index usuwa index co byl i robi normalny 0,1,2,3, itd\n",
    "#rename zmienia nazwy kolumn\n",
    "corr_values = (corr_values\n",
    "               .stack()\n",
    "               .to_frame()\n",
    "               .reset_index()\n",
    "               .rename(columns={'level_0':'feature1',\n",
    "                                'level_1':'feature2',\n",
    "                                0:'correlation'}))\n",
    "corr_values['abs_correlation'] = corr_values.correlation.abs()\n",
    "\n",
    "#jest komunikat o kolumnach ktore nie sa z wartosciami liczbowymi wiec wylacze komunikaty"
   ]
  },
  {
   "cell_type": "code",
   "execution_count": null,
   "id": "b870eac3-52d8-4157-af41-b0ab2bbf6419",
   "metadata": {
    "tags": []
   },
   "outputs": [],
   "source": [
    "sns.set_context('talk')\n",
    "sns.set_style('white')\n",
    "\n",
    "ax = corr_values.abs_correlation.hist(bins=50, figsize=(12, 8))\n",
    "ax.set(xlabel='Absolute Correlation', ylabel='Frequency');"
   ]
  },
  {
   "cell_type": "code",
   "execution_count": null,
   "id": "89b9fe87-c3f2-4204-bbc5-e0d769619669",
   "metadata": {
    "tags": []
   },
   "outputs": [],
   "source": [
    "# from pandas.plotting import scatter_matrix\n",
    "\n",
    "# scatter_matrix(df2, figsize=(30, 20))"
   ]
  },
  {
   "cell_type": "markdown",
   "id": "27679ba0-052c-419d-9305-25dd27224118",
   "metadata": {},
   "source": [
    "Zobaczmy które zmienne miały korelacje powyżej 0.2\n"
   ]
  },
  {
   "cell_type": "code",
   "execution_count": null,
   "id": "ea96cce2-0626-4aaf-91f1-a5e929a3cf1a",
   "metadata": {
    "tags": []
   },
   "outputs": [],
   "source": [
    "# The most highly correlated values\n",
    "#Query the columns of a DataFrame with a boolean expression\n",
    "#query sluzy do filtrowania\n",
    "corr_values.sort_values('correlation', ascending=False).query('abs_correlation>0.2')"
   ]
  },
  {
   "cell_type": "markdown",
   "id": "b04d1f9e-3fa3-400a-9843-ae9225dac3e6",
   "metadata": {},
   "source": [
    "## Obserwacje odstające\n"
   ]
  },
  {
   "cell_type": "code",
   "execution_count": null,
   "id": "a37e0e06-b835-4054-b8b4-ebbb41975991",
   "metadata": {
    "tags": []
   },
   "outputs": [],
   "source": [
    "df.shape"
   ]
  },
  {
   "cell_type": "code",
   "execution_count": null,
   "id": "592de829-9670-4395-87f0-2c186805ada3",
   "metadata": {
    "tags": []
   },
   "outputs": [],
   "source": [
    "# for col in df.columns:\n",
    "#     mean = df[col].mean()\n",
    "#     sd = df[col].std()\n",
    "#     data = df[(df[col] <= mean+(2*sd))]\n",
    "    #usuwa wszystkie wartości większe lub równe średnia +2 razy odchylenie standardowe"
   ]
  },
  {
   "cell_type": "code",
   "execution_count": null,
   "id": "eafb661f-f722-4117-abb2-3844fd78ff85",
   "metadata": {
    "tags": []
   },
   "outputs": [],
   "source": [
    "# df.shape"
   ]
  },
  {
   "cell_type": "code",
   "execution_count": null,
   "id": "15cf1749-0c2f-4fcc-9b12-f4ea180d591d",
   "metadata": {
    "tags": []
   },
   "outputs": [],
   "source": [
    "def identify_outliers(column):\n",
    "    Q1 = column.quantile(0.25)\n",
    "    Q3 = column.quantile(0.75)\n",
    "    IQR = Q3 - Q1\n",
    "    lower_bound = Q1 - 1.5 * IQR\n",
    "    upper_bound = Q3 + 1.5 * IQR\n",
    "    outliers = (column < lower_bound) | (column > upper_bound)\n",
    "    return outliers\n",
    "#usuwa wszystkie obserwacje odstające w 'rozumieniu boxplota'"
   ]
  },
  {
   "cell_type": "code",
   "execution_count": null,
   "id": "f49d67eb-fe07-4981-8355-2a25d49df4aa",
   "metadata": {
    "tags": []
   },
   "outputs": [],
   "source": [
    "# outliers_in_columns = df.apply(identify_outliers) # Zidentyfikowanie outliers w każdej kolumnie\n",
    "\n",
    "# outliers_count_per_column = outliers_in_columns.sum()\n",
    "# print(outliers_count_per_column)\n",
    "\n",
    "# df = df[~outliers_in_columns]  # Usunięcie outliers z ramki danych\n",
    "# df.head()\n",
    "\n",
    "# number of weekend nights sie przyjrzzec"
   ]
  },
  {
   "cell_type": "code",
   "execution_count": null,
   "id": "db8e1ba3-f576-4bbc-a67b-368a48c40521",
   "metadata": {
    "tags": []
   },
   "outputs": [],
   "source": [
    "df.shape"
   ]
  },
  {
   "cell_type": "code",
   "execution_count": null,
   "id": "d42eebab-bdfa-492b-a454-70bb0a635d9c",
   "metadata": {
    "tags": []
   },
   "outputs": [],
   "source": [
    "df.head()"
   ]
  },
  {
   "cell_type": "code",
   "execution_count": null,
   "id": "a7adbb93-ceda-4c11-999a-c9687c1d101c",
   "metadata": {
    "tags": []
   },
   "outputs": [],
   "source": [
    "#moze jakis test statystyczny czy jest rozklad normalny np\n",
    "# albo roznica miedzy dwoma sezonami"
   ]
  },
  {
   "cell_type": "code",
   "execution_count": null,
   "id": "22f64ab9-08c5-460f-9e4d-70e7dcd4e9f8",
   "metadata": {
    "tags": []
   },
   "outputs": [],
   "source": [
    "#sprawdzmy korelacje liniowa pearsona\n"
   ]
  },
  {
   "cell_type": "code",
   "execution_count": null,
   "id": "c8669c6c-f786-499e-9dd7-61c5544b8ef0",
   "metadata": {
    "tags": []
   },
   "outputs": [],
   "source": [
    "# correlation_coefficient, p_value = pearsonr(df.no_of_weekend_nights, df.no_of_week_nights)"
   ]
  },
  {
   "cell_type": "code",
   "execution_count": null,
   "id": "bc6091b9-5143-4bab-9481-8ec2d5955be1",
   "metadata": {},
   "outputs": [],
   "source": []
  },
  {
   "cell_type": "code",
   "execution_count": null,
   "id": "086a7ba6-3dff-4d8c-af9c-22ba7b54e6f7",
   "metadata": {
    "tags": []
   },
   "outputs": [],
   "source": [
    "#ale wykonac wielowymiarowa analize danych moglbym najpierw\n",
    "#wykonac polecenie w R i sprawdzic wynik z funkcja z pythona\n"
   ]
  },
  {
   "cell_type": "code",
   "execution_count": null,
   "id": "b4b51eae-86b8-4e45-ac16-98be680ecaf8",
   "metadata": {
    "tags": []
   },
   "outputs": [],
   "source": [
    "#sprobowac machine laerning, jakies wizualizacje, moze jakies hioptezy stastystyczne"
   ]
  },
  {
   "cell_type": "code",
   "execution_count": null,
   "id": "78a38ef1-157a-4978-a9af-63f5efb14711",
   "metadata": {},
   "outputs": [],
   "source": []
  },
  {
   "cell_type": "markdown",
   "id": "f9e150c5-4f92-47ab-981b-7e9d6e9fcc81",
   "metadata": {},
   "source": [
    "W modelu predykcji pomine kolumny arrival_year, arrival_month, arrival_date"
   ]
  },
  {
   "cell_type": "code",
   "execution_count": null,
   "id": "bd1326f6-dba5-437f-bc22-4e8dafd039fb",
   "metadata": {},
   "outputs": [],
   "source": [
    "#train_test_split jest najprostrzym podziałem, StratifiedShuffleSplit dba o to aby było równy stosunek w zbiorze testowym i uczącym tego co przewidujemy"
   ]
  },
  {
   "cell_type": "code",
   "execution_count": null,
   "id": "97038dce-23f2-4adb-be69-48689d29b4ff",
   "metadata": {
    "tags": []
   },
   "outputs": [],
   "source": [
    "df['booking_status']"
   ]
  },
  {
   "cell_type": "code",
   "execution_count": null,
   "id": "db3e61c2-1dd4-4d65-aa71-189bf707ba1d",
   "metadata": {
    "tags": []
   },
   "outputs": [],
   "source": [
    "df.Booking_status"
   ]
  },
  {
   "cell_type": "code",
   "execution_count": null,
   "id": "4836a23e-1830-4d8c-b044-83955e4e35e7",
   "metadata": {},
   "outputs": [],
   "source": []
  },
  {
   "cell_type": "code",
   "execution_count": null,
   "id": "f2d87264-e802-411b-bc5d-424acf701436",
   "metadata": {},
   "outputs": [],
   "source": []
  },
  {
   "cell_type": "code",
   "execution_count": null,
   "id": "e3715b89-9fd0-47d1-a533-6dd4ce8958f5",
   "metadata": {},
   "outputs": [],
   "source": []
  },
  {
   "cell_type": "markdown",
   "id": "26c8c6fa-8c1e-448b-b93a-035284a9a0c7",
   "metadata": {},
   "source": [
    "# Predykcja"
   ]
  },
  {
   "cell_type": "code",
   "execution_count": null,
   "id": "983a3e7a-8947-47b8-bc5d-908c177a7227",
   "metadata": {
    "tags": []
   },
   "outputs": [],
   "source": [
    "# StratifiedShuffleSplit bardziej skomplikowany podział dzieli na zbiory treningowy\n",
    "#i testowy, przy jednoczesnym zachowaniu proporcji klas (etykiet) w obu tych zbiorach.\n",
    "\n",
    "# I sposob\n",
    "from sklearn.model_selection import StratifiedShuffleSplit\n",
    "# split = StratifiedShuffleSplit(n_splits=1, test_size=0.2, random_state=42)\n",
    "# for train_index, test_index in split.split(housing, housing[\"income_cat\"]):\n",
    "# strat_train_set = housing.loc[train_index]\n",
    "# strat_test_set = housing.loc[test_index]\n",
    "# from sklearn.model_selection import StratifiedShuffleSplit\n",
    "\n",
    "\n",
    "\n",
    "\n",
    "# II sposob\n",
    "predictors = [col for col in list(df) if col != 'booking_status']\n",
    "\n",
    "#feature cols\n",
    "X = df[predictors]\n",
    "\n",
    "#Y\n",
    "Y = df['booking_status']\n",
    "# Get the split indexes\n",
    "#n splits - na ile zbiorow uczacych i testowych dzielimy\n",
    "# test_size dzieli 0.7 to zbiór treningowy a testowy to 0.3\n",
    "strat_shuf_split = StratifiedShuffleSplit(n_splits=1, \n",
    "                                          test_size=0.2, \n",
    "                                          random_state=7)\n",
    "\n",
    "train_idx, test_idx = next(strat_shuf_split.split(X, Y))\n",
    "\n",
    "# Create the dataframes\n",
    "x_train = df.loc[train_idx, predictors]\n",
    "y_train = df.loc[train_idx, 'booking_status']\n",
    "\n",
    "x_test  = df.loc[test_idx, predictors]\n",
    "y_test  = df.loc[test_idx, 'booking_status']"
   ]
  },
  {
   "cell_type": "code",
   "execution_count": null,
   "id": "2899532a-1e00-4f57-924a-8c1ffde513d9",
   "metadata": {
    "tags": []
   },
   "outputs": [],
   "source": [
    "y_train_value.value_counts(normalize=True)\n",
    "#normalize daje nam proporcje zamiast liczb - latwiej odczytac"
   ]
  },
  {
   "cell_type": "code",
   "execution_count": null,
   "id": "5c86fdeb-863c-447d-acf6-0807b18377aa",
   "metadata": {
    "tags": []
   },
   "outputs": [],
   "source": [
    "x_train.head()"
   ]
  },
  {
   "cell_type": "code",
   "execution_count": null,
   "id": "34f2e421-1768-4543-a59e-bfeb6261b6e2",
   "metadata": {},
   "outputs": [],
   "source": [
    "# II sposob za pomoca prostrzej funkcji do podziału na zbiór uczący i testowy"
   ]
  },
  {
   "cell_type": "code",
   "execution_count": null,
   "id": "7951101b-2923-49bf-8594-e4d037fa62ce",
   "metadata": {
    "tags": []
   },
   "outputs": [],
   "source": [
    "from sklearn.model_selection import train_test_split\n",
    "\n",
    "predictors = [col for col in list(df) if col != 'booking_status']\n",
    "#predictors = list(data.columns[:15])\n",
    "X = df[predictors]\n",
    "Y = df['booking_status']\n",
    "\n",
    "x_train, x_test, y_train, y_test = train_test_split(X, Y, test_size=0.2, random_state=7)\n",
    "#dzieli 0.8 to zbiór treningowy a testowy to 0.2"
   ]
  },
  {
   "cell_type": "code",
   "execution_count": null,
   "id": "8b07de22-526f-47d4-9f59-1fff0f287ce6",
   "metadata": {
    "tags": []
   },
   "outputs": [],
   "source": [
    "counts_train = np.bincount(y_train)\n",
    "print(\"Liczba 0 w y_train:\", counts_train[0])\n",
    "print(\"Liczba 1 w y_train:\", counts_train[1])\n",
    "\n",
    "counts_test = np.bincount(y_test)\n",
    "print(\"Liczba 0 w y_test:\", counts_test[0])\n",
    "print(\"Liczba 1 w y_test:\", counts_test[1])"
   ]
  },
  {
   "cell_type": "markdown",
   "id": "121b0672-de33-4919-8551-7780900f8510",
   "metadata": {},
   "source": [
    "jest około 2 razy więcej nieodwołanych w zbiorze uczącym i testowym tak samo jak w oryginalnym zbiorze."
   ]
  },
  {
   "cell_type": "code",
   "execution_count": null,
   "id": "31d86943-9366-4273-919c-8d71c59720cb",
   "metadata": {
    "tags": []
   },
   "outputs": [],
   "source": [
    "# Regresja logistyczna nie akceptuje pustych wartosci"
   ]
  },
  {
   "cell_type": "code",
   "execution_count": null,
   "id": "818cf8f1-e589-4f22-8cd5-32aab2a03077",
   "metadata": {
    "tags": []
   },
   "outputs": [],
   "source": [
    "df.isnull().sum()"
   ]
  },
  {
   "cell_type": "code",
   "execution_count": null,
   "id": "b160d55f-845a-48d0-bf43-e8f2ce92c3b9",
   "metadata": {
    "tags": []
   },
   "outputs": [],
   "source": [
    "from sklearn.linear_model import LogisticRegression\n",
    "from sklearn.metrics import accuracy_score\n",
    "model = LogisticRegression(max_iter=10000)\n",
    "\n",
    "%time model.fit(x_train, y_train)\n",
    "\n",
    "y_pred = model.predict(x_test)\n",
    "\n",
    "accuracy = accuracy_score(y_test, y_pred)\n",
    "print('Accuracy: ' + str(accuracy))"
   ]
  },
  {
   "cell_type": "markdown",
   "id": "1dfeac81-b3fd-495c-b5bd-79f25bb084a7",
   "metadata": {},
   "source": [
    " po zastosowaniu StratifiedShuffleSplit Regresja logistyczna ma lepsze accuracy"
   ]
  },
  {
   "cell_type": "markdown",
   "id": "e8157846-9a75-4efc-b61a-7c90d81e9ed4",
   "metadata": {},
   "source": [
    "jakie metryki zastosowac do zmierzenia poprawnosci modleu jesli jest stosunek w y 1:2 kontynuowac lab2"
   ]
  },
  {
   "cell_type": "code",
   "execution_count": null,
   "id": "74084f72-d222-4073-96d3-931ccddd216f",
   "metadata": {
    "tags": []
   },
   "outputs": [],
   "source": [
    "#Regresja logistyczna accuracy 0.8038594\n",
    "#po zastosowaniu one hot encoding\n",
    "# ze zwykłym enkodowaniem 0.78"
   ]
  },
  {
   "cell_type": "code",
   "execution_count": null,
   "id": "f4f2e884-48f8-4134-a7b9-103b2a2d3b5c",
   "metadata": {
    "tags": []
   },
   "outputs": [],
   "source": [
    "# cm: Macierz pomyłek wygenerowana wcześniej.\n",
    "# annot=True: Określa, czy wartości macierzy mają być wyświetlane na heatmapie. Jeśli True, to wartości zostaną wyświetlone na heatmapie.\n",
    "# fmt='d': Określa format wartości na heatmapie. W tym przypadku 'd' oznacza format liczb całkowitych.\n",
    "# cmap='Blues': Określa paletę kolorów używaną w heatmapie. W tym przypadku używana jest paleta \"Blues\"."
   ]
  },
  {
   "cell_type": "code",
   "execution_count": null,
   "id": "4d1d40bd-2c2d-4439-9052-0c36a8256e32",
   "metadata": {
    "tags": []
   },
   "outputs": [],
   "source": [
    "from sklearn.metrics import confusion_matrix\n",
    "confusion = confusion_matrix(y_test, y_pred)\n",
    "print('Confusion Matrix:')\n",
    "print(confusion)"
   ]
  },
  {
   "cell_type": "code",
   "execution_count": null,
   "id": "2a7c7a23-c2ac-4859-8830-303033b20809",
   "metadata": {
    "tags": []
   },
   "outputs": [],
   "source": [
    "confusion = confusion_matrix(y_test, y_pred)\n",
    "\n",
    "# Stwórz heatmapę\n",
    "sns.heatmap(confusion, annot=True, fmt='d', cmap='Blues')\n",
    "plt.xlabel('Predicted')\n",
    "plt.ylabel('True')\n",
    "plt.title('Confusion Matrix Heatmap')\n",
    "plt.show()"
   ]
  },
  {
   "cell_type": "markdown",
   "id": "94e10a01-6ea5-4d0b-b345-7967a675da4f",
   "metadata": {},
   "source": [
    "Do testów tych należą testy nieparametryczne takie jak test niezależności chi-kwadrat\n",
    "Pearsona, jak i testy parametryczne, takie jak test z i test t dla dwóch średnich. Druga grupa to opisowe metody\n",
    "analizy korelacji, polegające na znajdowaniu zależności pomiędzy zmiennymi bez podziału na zmienną zależną\n",
    "i zmienne niezależne. W metodach tych wykorzystuje się współczynniki przeznaczone zarówno dla zmiennych\n",
    "mierzonych na skali nominalnej, jak i porządkowej, takie jak współczynniki korelacji liniowej Pearsona, rang\n",
    "Spearmana i tau Kendalla."
   ]
  },
  {
   "cell_type": "code",
   "execution_count": null,
   "id": "407d7503-b644-4a85-95f7-7ade8c422fdc",
   "metadata": {
    "tags": []
   },
   "outputs": [],
   "source": [
    "#plotly express zobaczyc biblioteke"
   ]
  },
  {
   "cell_type": "code",
   "execution_count": null,
   "id": "573881ee-2a54-4a7d-a71e-bf31cb7da276",
   "metadata": {},
   "outputs": [],
   "source": []
  },
  {
   "cell_type": "code",
   "execution_count": null,
   "id": "61f2633b-298c-44b9-8b56-a192e25923f4",
   "metadata": {},
   "outputs": [],
   "source": []
  },
  {
   "cell_type": "code",
   "execution_count": null,
   "id": "3f64c5a6-9e85-4355-a52c-f23c1756c5c8",
   "metadata": {},
   "outputs": [],
   "source": []
  },
  {
   "cell_type": "code",
   "execution_count": null,
   "id": "cd9ba253-4486-4eac-bff1-8048e59aad7a",
   "metadata": {},
   "outputs": [],
   "source": []
  },
  {
   "cell_type": "code",
   "execution_count": null,
   "id": "e559d5a5-bad0-4094-ad6d-996250715b32",
   "metadata": {},
   "outputs": [],
   "source": []
  },
  {
   "cell_type": "code",
   "execution_count": null,
   "id": "349ca431-bcfd-4f68-92cb-ea102f6cb5d0",
   "metadata": {},
   "outputs": [],
   "source": []
  },
  {
   "cell_type": "code",
   "execution_count": null,
   "id": "c8f01f0a-0940-4ae0-a398-58bd3ea6bfa1",
   "metadata": {},
   "outputs": [],
   "source": []
  },
  {
   "cell_type": "code",
   "execution_count": null,
   "id": "d4b56664-87fc-4abe-9436-065e4c1779b2",
   "metadata": {},
   "outputs": [],
   "source": []
  },
  {
   "cell_type": "code",
   "execution_count": null,
   "id": "2964902b-c274-4939-964f-1c0a4509ce3e",
   "metadata": {},
   "outputs": [],
   "source": []
  },
  {
   "cell_type": "code",
   "execution_count": null,
   "id": "47f09b39-140a-4e61-9473-56cd327e44e7",
   "metadata": {},
   "outputs": [],
   "source": []
  }
 ],
 "metadata": {
  "kernelspec": {
   "display_name": "Python 3 (ipykernel)",
   "language": "python",
   "name": "python3"
  },
  "language_info": {
   "codemirror_mode": {
    "name": "ipython",
    "version": 3
   },
   "file_extension": ".py",
   "mimetype": "text/x-python",
   "name": "python",
   "nbconvert_exporter": "python",
   "pygments_lexer": "ipython3",
   "version": "3.11.4"
  }
 },
 "nbformat": 4,
 "nbformat_minor": 5
}
